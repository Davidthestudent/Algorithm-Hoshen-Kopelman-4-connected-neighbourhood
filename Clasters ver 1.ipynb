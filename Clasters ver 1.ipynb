{
 "cells": [
  {
   "cell_type": "code",
   "execution_count": 11,
   "metadata": {
    "collapsed": true,
    "pycharm": {
     "name": "#%%\n"
    }
   },
   "outputs": [
    {
     "ename": "KeyboardInterrupt",
     "evalue": "",
     "output_type": "error",
     "traceback": [
      "\u001B[1;31m---------------------------------------------------------------------------\u001B[0m",
      "\u001B[1;31mKeyboardInterrupt\u001B[0m                         Traceback (most recent call last)",
      "Input \u001B[1;32mIn [11]\u001B[0m, in \u001B[0;36m<cell line: 78>\u001B[1;34m()\u001B[0m\n\u001B[0;32m     75\u001B[0m \tplt\u001B[38;5;241m.\u001B[39mcolorbar()\n\u001B[0;32m     76\u001B[0m \tplt\u001B[38;5;241m.\u001B[39mshow()\n\u001B[1;32m---> 78\u001B[0m \u001B[43mmain\u001B[49m\u001B[43m(\u001B[49m\u001B[43m)\u001B[49m\n",
      "Input \u001B[1;32mIn [11]\u001B[0m, in \u001B[0;36mmain\u001B[1;34m()\u001B[0m\n\u001B[0;32m     70\u001B[0m Lw \u001B[38;5;241m=\u001B[39m \u001B[38;5;28mint\u001B[39m(\u001B[38;5;28minput\u001B[39m())\n\u001B[0;32m     71\u001B[0m p \u001B[38;5;241m=\u001B[39m np\u001B[38;5;241m.\u001B[39mrandom\u001B[38;5;241m.\u001B[39mrand()\n\u001B[1;32m---> 72\u001B[0m L \u001B[38;5;241m=\u001B[39m \u001B[43mLabel\u001B[49m\u001B[43m(\u001B[49m\u001B[43mLw\u001B[49m\u001B[43m,\u001B[49m\u001B[43mp\u001B[49m\u001B[43m)\u001B[49m\n\u001B[0;32m     73\u001B[0m \u001B[38;5;28mprint\u001B[39m(L)\n\u001B[0;32m     74\u001B[0m plt\u001B[38;5;241m.\u001B[39mimshow(L)\n",
      "Input \u001B[1;32mIn [11]\u001B[0m, in \u001B[0;36mLabel\u001B[1;34m(L, p)\u001B[0m\n\u001B[0;32m     48\u001B[0m \tlabel[i,j] \u001B[38;5;241m=\u001B[39m label[i\u001B[38;5;241m-\u001B[39m\u001B[38;5;241m1\u001B[39m,j]\n\u001B[0;32m     49\u001B[0m \u001B[38;5;28;01melse\u001B[39;00m:\n\u001B[1;32m---> 50\u001B[0m \tLab_prim \u001B[38;5;241m=\u001B[39m \u001B[43mFind\u001B[49m\u001B[43m(\u001B[49m\u001B[43mlabel\u001B[49m\u001B[43m,\u001B[49m\u001B[43mi\u001B[49m\u001B[43m,\u001B[49m\u001B[43mj\u001B[49m\u001B[38;5;241;43m-\u001B[39;49m\u001B[38;5;241;43m1\u001B[39;49m\u001B[43m,\u001B[49m\u001B[43mi\u001B[49m\u001B[38;5;241;43m-\u001B[39;49m\u001B[38;5;241;43m1\u001B[39;49m\u001B[43m,\u001B[49m\u001B[43mj\u001B[49m\u001B[43m,\u001B[49m\u001B[43mL\u001B[49m\u001B[43m)\u001B[49m\n\u001B[0;32m     51\u001B[0m \tlabel \u001B[38;5;241m=\u001B[39m Lab_prim\n\u001B[0;32m     52\u001B[0m \tlabel[i,j] \u001B[38;5;241m=\u001B[39m label[i\u001B[38;5;241m-\u001B[39m\u001B[38;5;241m1\u001B[39m,j]\n",
      "Input \u001B[1;32mIn [11]\u001B[0m, in \u001B[0;36mFind\u001B[1;34m(L, a, b, c, d, Lw)\u001B[0m\n\u001B[0;32m      8\u001B[0m x \u001B[38;5;241m=\u001B[39m L[a,b]\n\u001B[0;32m      9\u001B[0m y \u001B[38;5;241m=\u001B[39m L[c,d]\n\u001B[1;32m---> 10\u001B[0m find_rc \u001B[38;5;241m=\u001B[39m \u001B[43mFind_prim\u001B[49m\u001B[43m(\u001B[49m\u001B[43mL\u001B[49m\u001B[43m,\u001B[49m\u001B[43mx\u001B[49m\u001B[43m,\u001B[49m\u001B[43mLw\u001B[49m\u001B[43m)\u001B[49m\n\u001B[0;32m     11\u001B[0m row \u001B[38;5;241m=\u001B[39m find_rc[\u001B[38;5;241m0\u001B[39m]\n\u001B[0;32m     12\u001B[0m col \u001B[38;5;241m=\u001B[39m find_rc[\u001B[38;5;241m1\u001B[39m]\n",
      "Input \u001B[1;32mIn [11]\u001B[0m, in \u001B[0;36mFind_prim\u001B[1;34m(a, b, Lw)\u001B[0m\n\u001B[0;32m     26\u001B[0m \t\t\u001B[38;5;28;01mif\u001B[39;00m a[i,j] \u001B[38;5;241m==\u001B[39m b:\n\u001B[0;32m     27\u001B[0m \t\t\trow \u001B[38;5;241m=\u001B[39m np\u001B[38;5;241m.\u001B[39mappend(row, i)\n\u001B[1;32m---> 28\u001B[0m \t\t\tcol \u001B[38;5;241m=\u001B[39m \u001B[43mnp\u001B[49m\u001B[38;5;241;43m.\u001B[39;49m\u001B[43mappend\u001B[49m\u001B[43m(\u001B[49m\u001B[43mcol\u001B[49m\u001B[43m,\u001B[49m\u001B[43m \u001B[49m\u001B[43mj\u001B[49m\u001B[43m)\u001B[49m\n\u001B[0;32m     30\u001B[0m \u001B[38;5;28;01mreturn\u001B[39;00m [[row],[col]]\n",
      "File \u001B[1;32m<__array_function__ internals>:180\u001B[0m, in \u001B[0;36mappend\u001B[1;34m(*args, **kwargs)\u001B[0m\n",
      "File \u001B[1;32mc:\\users\\79886\\pycharmprojects\\pythonproject10\\venv\\lib\\site-packages\\numpy\\lib\\function_base.py:5392\u001B[0m, in \u001B[0;36mappend\u001B[1;34m(arr, values, axis)\u001B[0m\n\u001B[0;32m   5390\u001B[0m     values \u001B[38;5;241m=\u001B[39m ravel(values)\n\u001B[0;32m   5391\u001B[0m     axis \u001B[38;5;241m=\u001B[39m arr\u001B[38;5;241m.\u001B[39mndim\u001B[38;5;241m-\u001B[39m\u001B[38;5;241m1\u001B[39m\n\u001B[1;32m-> 5392\u001B[0m \u001B[38;5;28;01mreturn\u001B[39;00m \u001B[43mconcatenate\u001B[49m\u001B[43m(\u001B[49m\u001B[43m(\u001B[49m\u001B[43marr\u001B[49m\u001B[43m,\u001B[49m\u001B[43m \u001B[49m\u001B[43mvalues\u001B[49m\u001B[43m)\u001B[49m\u001B[43m,\u001B[49m\u001B[43m \u001B[49m\u001B[43maxis\u001B[49m\u001B[38;5;241;43m=\u001B[39;49m\u001B[43maxis\u001B[49m\u001B[43m)\u001B[49m\n",
      "File \u001B[1;32m<__array_function__ internals>:180\u001B[0m, in \u001B[0;36mconcatenate\u001B[1;34m(*args, **kwargs)\u001B[0m\n",
      "\u001B[1;31mKeyboardInterrupt\u001B[0m: "
     ]
    }
   ],
   "source": [
    "import numpy as np\n",
    "def R_matrix(L, p): #Создание матрицы из 0 и 1\n",
    "\treturn np.random.choice([1, 0], p=(p, 1-p), size=(L, L))\n",
    "def r_matrix(Lw):\n",
    "\treturn np.array([[int(input()) for x in range(Lw)] for y in range(Lw)], int)\n",
    "def Find(L, a, b, c, d, Lw): # Поиск элементов в массиве\n",
    "\tx = L[a,b]\n",
    "\ty = L[c,d]\n",
    "\tfind_rc = Find_prim(L,x,Lw)\n",
    "\trow = find_rc[0]\n",
    "\tcol = find_rc[1]\n",
    "\n",
    "\tfor i in range(0,len(col)):\n",
    "\t\taa = row[i]\n",
    "\t\tbb = col[i]\n",
    "\t\tL[aa,bb] = y #комбинирование элементов\n",
    "\treturn L\n",
    "def Find_prim(a, b, Lw): #Добавление функции find\n",
    "\tsize = a.shape\n",
    "\trow = np.array([], dtype=np.int64)\n",
    "\tcol = np.array([], dtype=np.int64)\n",
    "\t#if len(b) == 1:\n",
    "\tfor i in range(0,Lw):\n",
    "\t\tfor j in range(0,Lw):\n",
    "\t\t\tif a[i,j] == b:\n",
    "\t\t\t\trow = np.append(row, i)\n",
    "\t\t\t\tcol = np.append(col, j)\n",
    "\n",
    "\treturn [[row],[col]]\n",
    "def Label(L, p): #Cоздание массивов кластеров\n",
    "\tR = R_matrix(L,p)\n",
    "\tiD = 1\n",
    "\tlabel = np.zeros((L,L))\n",
    "\tfor i in range(0,L):\n",
    "\t\tfor j in range(0,L):\n",
    "\t\t\tif R[i,j]:\n",
    "\t\t\t\tl_a = Above_left(i,j,R)\n",
    "\t\t\t\tabove = l_a[0]\n",
    "\t\t\t\tleft = l_a[1]\n",
    "\n",
    "\t\t\t\tif left == 0 and above == 0:\n",
    "\t\t\t\t\tlabel[i,j] = iD\n",
    "\t\t\t\t\tiD = iD + 1\n",
    "\t\t\t\telif left != 0 and above == 0:\n",
    "\t\t\t\t\tlabel[i,j] = label[i,j-1]\n",
    "\t\t\t\telif left == 0 and above != 0:\n",
    "\t\t\t\t\tlabel[i,j] = label[i-1,j]\n",
    "\t\t\t\telse:\n",
    "\t\t\t\t\tLab_prim = Find(label,i,j-1,i-1,j,L)\n",
    "\t\t\t\t\tlabel = Lab_prim\n",
    "\t\t\t\t\tlabel[i,j] = label[i-1,j]\n",
    "\treturn label\n",
    "def Above_left(i, j, R): #Дополнение функции find проверка ячеек на совпадение кластеров с предыдущими\n",
    "\tif i > 0 and j > 0:\n",
    "\t\tabove = R[i-1,j]\n",
    "\t\tleft = R[i,j-1]\n",
    "\telif i > 0 and j == 0:\n",
    "\t\tabove = R[i-1,j]\n",
    "\t\tleft = 0\n",
    "\telif i == 0 and j > 0:\n",
    "\t\tabove = 0\n",
    "\t\tleft = R[i,j-1]\n",
    "\telse:\n",
    "\t\tabove = 0\n",
    "\t\tleft = 0\n",
    "\treturn (above,left)\n",
    "\n",
    "def main():\n",
    "\tLw = int(input())\n",
    "\tp = np.random.rand()\n",
    "\tL = Label(Lw,p)\n",
    "\tprint(L)\n",
    "\n",
    "main()"
   ]
  }
 ],
 "metadata": {
  "kernelspec": {
   "display_name": "Python 3",
   "language": "python",
   "name": "python3"
  },
  "language_info": {
   "codemirror_mode": {
    "name": "ipython",
    "version": 2
   },
   "file_extension": ".py",
   "mimetype": "text/x-python",
   "name": "python",
   "nbconvert_exporter": "python",
   "pygments_lexer": "ipython2",
   "version": "2.7.6"
  }
 },
 "nbformat": 4,
 "nbformat_minor": 0
}